{
 "cells": [
  {
   "cell_type": "code",
   "execution_count": 1,
   "id": "a3e45e85-c712-4771-b424-b4e0133dda4c",
   "metadata": {},
   "outputs": [
    {
     "data": {
      "text/html": [
       "<div>\n",
       "<style scoped>\n",
       "    .dataframe tbody tr th:only-of-type {\n",
       "        vertical-align: middle;\n",
       "    }\n",
       "\n",
       "    .dataframe tbody tr th {\n",
       "        vertical-align: top;\n",
       "    }\n",
       "\n",
       "    .dataframe thead th {\n",
       "        text-align: right;\n",
       "    }\n",
       "</style>\n",
       "<table border=\"1\" class=\"dataframe\">\n",
       "  <thead>\n",
       "    <tr style=\"text-align: right;\">\n",
       "      <th></th>\n",
       "      <th>Event Count</th>\n",
       "      <th>location</th>\n",
       "      <th>Event duration</th>\n",
       "      <th>Latitude</th>\n",
       "      <th>Longitude</th>\n",
       "      <th>Cluster</th>\n",
       "    </tr>\n",
       "  </thead>\n",
       "  <tbody>\n",
       "    <tr>\n",
       "      <th>0</th>\n",
       "      <td>0</td>\n",
       "      <td>{'latitude': 21.0928232, 'longitude': 83.5287327}</td>\n",
       "      <td>1263.998</td>\n",
       "      <td>21.092823</td>\n",
       "      <td>83.528733</td>\n",
       "      <td>1</td>\n",
       "    </tr>\n",
       "    <tr>\n",
       "      <th>1</th>\n",
       "      <td>1</td>\n",
       "      <td>{'latitude': 21.1912364, 'longitude': 83.5869311}</td>\n",
       "      <td>343.500</td>\n",
       "      <td>21.191236</td>\n",
       "      <td>83.586931</td>\n",
       "      <td>1</td>\n",
       "    </tr>\n",
       "    <tr>\n",
       "      <th>2</th>\n",
       "      <td>2</td>\n",
       "      <td>{'latitude': 20.1986492, 'longitude': 83.2312064}</td>\n",
       "      <td>1358.165</td>\n",
       "      <td>20.198649</td>\n",
       "      <td>83.231206</td>\n",
       "      <td>1</td>\n",
       "    </tr>\n",
       "    <tr>\n",
       "      <th>3</th>\n",
       "      <td>3</td>\n",
       "      <td>{'latitude': 19.891533333333335, 'longitude': ...</td>\n",
       "      <td>2423.445</td>\n",
       "      <td>19.891533</td>\n",
       "      <td>82.065932</td>\n",
       "      <td>2</td>\n",
       "    </tr>\n",
       "    <tr>\n",
       "      <th>4</th>\n",
       "      <td>4</td>\n",
       "      <td>{'latitude': 21.1667245, 'longitude': 83.5788649}</td>\n",
       "      <td>496.000</td>\n",
       "      <td>21.166725</td>\n",
       "      <td>83.578865</td>\n",
       "      <td>1</td>\n",
       "    </tr>\n",
       "  </tbody>\n",
       "</table>\n",
       "</div>"
      ],
      "text/plain": [
       "   Event Count                                           location  \\\n",
       "0            0  {'latitude': 21.0928232, 'longitude': 83.5287327}   \n",
       "1            1  {'latitude': 21.1912364, 'longitude': 83.5869311}   \n",
       "2            2  {'latitude': 20.1986492, 'longitude': 83.2312064}   \n",
       "3            3  {'latitude': 19.891533333333335, 'longitude': ...   \n",
       "4            4  {'latitude': 21.1667245, 'longitude': 83.5788649}   \n",
       "\n",
       "   Event duration   Latitude  Longitude  Cluster  \n",
       "0        1263.998  21.092823  83.528733        1  \n",
       "1         343.500  21.191236  83.586931        1  \n",
       "2        1358.165  20.198649  83.231206        1  \n",
       "3        2423.445  19.891533  82.065932        2  \n",
       "4         496.000  21.166725  83.578865        1  "
      ]
     },
     "execution_count": 1,
     "metadata": {},
     "output_type": "execute_result"
    }
   ],
   "source": [
    "import pandas as pd\n",
    "\n",
    "# Load the original CSV file\n",
    "df = pd.read_csv(\"clustered_output.csv\")\n",
    "\n",
    "# Show first 5 rows to confirm it loaded correctly\n",
    "df.head()"
   ]
  },
  {
   "cell_type": "code",
   "execution_count": 2,
   "id": "fa39afb2-20aa-494c-bdd0-b8891bd53f3f",
   "metadata": {},
   "outputs": [],
   "source": [
    "df.rename(columns={\n",
    "    \"Event Count\": \"EventID\",\n",
    "    \"Event duration\": \"Duration\"\n",
    "}, inplace=True)"
   ]
  },
  {
   "cell_type": "code",
   "execution_count": 3,
   "id": "235add5f-d480-4c66-9b5a-288927d7deb6",
   "metadata": {},
   "outputs": [
    {
     "data": {
      "text/plain": [
       "Index(['EventID', 'location', 'Duration', 'Latitude', 'Longitude', 'Cluster'], dtype='object')"
      ]
     },
     "execution_count": 3,
     "metadata": {},
     "output_type": "execute_result"
    }
   ],
   "source": [
    "df.columns"
   ]
  },
  {
   "cell_type": "code",
   "execution_count": 4,
   "id": "b234f091-3eb4-4c06-a252-9a1bc939261a",
   "metadata": {},
   "outputs": [],
   "source": [
    "df.drop(columns=[\"location\"], inplace=True)"
   ]
  },
  {
   "cell_type": "code",
   "execution_count": 6,
   "id": "74117cf4-77bc-4010-9bf9-1cfd912996e3",
   "metadata": {},
   "outputs": [],
   "source": [
    "df.to_csv(\"cleaned_clustered_output.csv\", index=False)\n"
   ]
  },
  {
   "cell_type": "code",
   "execution_count": 8,
   "id": "96a95c10-1c52-47b3-aaa7-c65b8b9835ed",
   "metadata": {},
   "outputs": [
    {
     "data": {
      "text/plain": [
       "['.ipynb_checkpoints',\n",
       " 'cleaned cluster.ipynb',\n",
       " 'cleaned_clustered_output.csv',\n",
       " 'cluster.ipynb',\n",
       " 'clustered_output.csv',\n",
       " 'data.csv']"
      ]
     },
     "execution_count": 8,
     "metadata": {},
     "output_type": "execute_result"
    }
   ],
   "source": [
    "import os\n",
    "os.listdir()"
   ]
  }
 ],
 "metadata": {
  "kernelspec": {
   "display_name": "Python 3 (ipykernel)",
   "language": "python",
   "name": "python3"
  },
  "language_info": {
   "codemirror_mode": {
    "name": "ipython",
    "version": 3
   },
   "file_extension": ".py",
   "mimetype": "text/x-python",
   "name": "python",
   "nbconvert_exporter": "python",
   "pygments_lexer": "ipython3",
   "version": "3.13.5"
  }
 },
 "nbformat": 4,
 "nbformat_minor": 5
}
